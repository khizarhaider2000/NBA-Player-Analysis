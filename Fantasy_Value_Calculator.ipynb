{
 "cells": [
  {
   "cell_type": "markdown",
   "metadata": {},
   "source": [
    "Evaluating how much value a player gives relative to their salary "
   ]
  },
  {
   "cell_type": "markdown",
   "metadata": {},
   "source": [
    "Cleaning and Merging 2 Sheets (NBA_Cleaned and NBA_Contracts)"
   ]
  },
  {
   "cell_type": "code",
   "execution_count": 5,
   "metadata": {},
   "outputs": [
    {
     "name": "stdout",
     "output_type": "stream",
     "text": [
      "                  Player  Age Team Pos   G  GS    MP    FG   FGA    FG%  ...  \\\n",
      "0          Stephen Curry   32  GSW  PG  63  63  34.2  10.4  21.7  0.482  ...   \n",
      "1           Bradley Beal   27  WAS  SG  60  60  35.8  11.2  23.0  0.485  ...   \n",
      "2         Damian Lillard   30  POR  PG  67  67  35.8   9.0  19.9  0.451  ...   \n",
      "3            Joel Embiid   26  PHI   C  51  51  31.1   9.0  17.6  0.513  ...   \n",
      "4  Giannis Antetokounmpo   26  MIL  PF  61  61  33.0  10.3  18.0  0.569  ...   \n",
      "\n",
      "   AST  STL  BLK  TOV   PF   PTS                     Awards  Season  \\\n",
      "0  5.8  1.2  0.1  3.4  1.9  32.0              MVP-3,AS,NBA1    2021   \n",
      "1  4.4  1.2  0.4  3.1  2.3  31.3                    AS,NBA3    2021   \n",
      "2  7.5  0.9  0.3  3.0  1.5  28.8              MVP-7,AS,NBA2    2021   \n",
      "3  2.8  1.0  1.4  3.1  2.4  28.5  MVP-2,DPOY-7,AS,NBA2,DEF2    2021   \n",
      "4  5.9  1.2  1.2  3.4  2.8  28.1  MVP-4,DPOY-5,AS,NBA1,DEF1    2021   \n",
      "\n",
      "   Salary (USD)  Salary (Millions)  \n",
      "0    43006362.0          43.006362  \n",
      "1    28751775.0          28.751775  \n",
      "2    31626953.0          31.626953  \n",
      "3    29542010.0          29.542010  \n",
      "4    27528090.0          27.528090  \n",
      "\n",
      "[5 rows x 33 columns]\n"
     ]
    }
   ],
   "source": [
    "import pandas as pd\n",
    "\n",
    "# Load CSV files\n",
    "stat_df = pd.read_csv(\"NBA_Cleaned.csv\")\n",
    "contract_df = pd.read_csv(\"NBA_Contracts.csv\")\n",
    "\n",
    "# 1: Clean Salary Column by removing commas and converting to floats\n",
    "contract_df['Salary (USD)'] = contract_df[\"Salary (USD)\"].replace(\",\", \"\", regex=True).astype(float)\n",
    "\n",
    "# 2: Rename columns so 'Player' is consistent \n",
    "contract_df.rename(columns={\"Name\": \"Player\"}, inplace=True)\n",
    "\n",
    "# 3: Merge both datasets on Player and Season\n",
    "merged_df = pd.merge(stat_df, contract_df[['Player', 'Salary (USD)', 'Season']], on=['Player', 'Season'], how='left')\n",
    "# Step 4: Create a column for salary in millions (if not done already)\n",
    "merged_df['Salary (Millions)'] = merged_df['Salary (USD)'] / 1_000_000\n",
    "\n",
    "# 5: Save to new CSV or preview\n",
    "merged_df.to_csv(\"Merged_NBA_Data.csv\", index=False)\n",
    "print(merged_df.head())\n"
   ]
  },
  {
   "cell_type": "markdown",
   "metadata": {},
   "source": [
    "Creating a Fantasy Value Score"
   ]
  },
  {
   "cell_type": "code",
   "execution_count": 6,
   "metadata": {},
   "outputs": [
    {
     "name": "stdout",
     "output_type": "stream",
     "text": [
      "                  Player Pos  FantasyScore  Salary (Millions)  ValuePerMillion\n",
      "0          Stephen Curry  PG      2.658786          43.006362         0.061823\n",
      "1           Bradley Beal  SG      2.308667          28.751775         0.080296\n",
      "2         Damian Lillard  PG      2.460246          31.626953         0.077790\n",
      "3            Joel Embiid   C      2.288716          29.542010         0.077473\n",
      "4  Giannis Antetokounmpo  PF      1.712279          27.528090         0.062201\n"
     ]
    }
   ],
   "source": [
    "def fantasy_score(row):\n",
    "    # does not allow any players with 0 games played\n",
    "    if row['G'] == 0 or pd.isna(row['G']):\n",
    "        return 0 \n",
    "    \n",
    "    #Normalize for Volume (players with less GP's may look better)\n",
    "    pts = row['PTS'] / row['G']\n",
    "    ast = row['AST'] / row['G']\n",
    "    reb = row['TRB'] / row['G']\n",
    "    stl = row['STL'] / row['G']\n",
    "    blk = row['BLK'] / row['G']\n",
    "    tov = row['TOV'] / row['G']\n",
    "    fg = row[\"FG\"] if not pd.isna(row[\"FG\"]) else 0\n",
    "    three = fg = row[\"3P%\"] if not pd.isna(row[\"3P%\"]) else 0\n",
    "    pos = row['Pos']\n",
    "\n",
    "    # Position-specific weights\n",
    "    # PGs are judged on playmaking and 3P% .Cs are judged more on interior dominance and FG%. SF and PF are balanced\n",
    "\n",
    "    if 'PG' in pos:\n",
    "        score = pts + 2 * ast + 1 * reb + 2 * stl + 0.5 * blk - tov + 2 * fg + 2.5 * three\n",
    "    elif 'SG' in pos:\n",
    "        score = 1.1 * pts + 1.5 * ast + 0.8 * reb + 2 * stl + 0.5 * blk - tov + 1.5 * fg + 3 * three\n",
    "    elif 'SF' in pos:\n",
    "        score = 1 * pts + 1.2 * ast + 1.2 * reb + 1.5 * stl + 1 * blk - tov + 1.5 * fg + 2 * three\n",
    "    elif 'PF' in pos:\n",
    "        score = 1 * pts + 1 * ast + 1.4 * reb + 1 * stl + 1.5 * blk - tov + 2 * fg + 1 * three\n",
    "    elif 'C' in pos:\n",
    "        score = 0.9 * pts + 0.6 * ast + 2 * reb + 0.5 * stl + 2.5 * blk - tov + 3 * fg + 0.5 * three\n",
    "    else:\n",
    "        score = pts + ast + reb + stl + blk - tov + fg + three  # fallback\n",
    "\n",
    "    return score\n",
    "\n",
    "# Step 6: Apply the fantasy score function\n",
    "merged_df['FantasyScore'] = merged_df.apply(fantasy_score, axis=1)\n",
    "\n",
    "# Step 7: Calculate value per $1 million\n",
    "merged_df['ValuePerMillion'] = merged_df['FantasyScore'] / merged_df['Salary (Millions)']\n",
    "\n",
    "# (Optional) Save or view\n",
    "merged_df.to_csv(\"Final_NBA_Valued.csv\", index=False)\n",
    "print(merged_df[['Player', 'Pos', 'FantasyScore', 'Salary (Millions)', 'ValuePerMillion']].head())"
   ]
  }
 ],
 "metadata": {
  "kernelspec": {
   "display_name": "Python 3",
   "language": "python",
   "name": "python3"
  },
  "language_info": {
   "codemirror_mode": {
    "name": "ipython",
    "version": 3
   },
   "file_extension": ".py",
   "mimetype": "text/x-python",
   "name": "python",
   "nbconvert_exporter": "python",
   "pygments_lexer": "ipython3",
   "version": "3.11.5"
  },
  "orig_nbformat": 4
 },
 "nbformat": 4,
 "nbformat_minor": 2
}
