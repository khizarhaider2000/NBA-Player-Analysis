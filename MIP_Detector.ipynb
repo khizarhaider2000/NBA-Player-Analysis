{
 "cells": [
  {
   "cell_type": "markdown",
   "metadata": {},
   "source": [
    "Identifying players who showed the biggest improvement between seasons"
   ]
  },
  {
   "cell_type": "code",
   "execution_count": 8,
   "metadata": {},
   "outputs": [
    {
     "name": "stdout",
     "output_type": "stream",
     "text": [
      "\n",
      "🏆 Top 3 MIP Candidates – 2025 Season:\n",
      "               Player Team   G  Impact  Impact_diff\n",
      "1174    Dyson Daniels  ATL  76   28.95        12.95\n",
      "1159  Christian Braun  DEN  79   27.41        11.53\n",
      "1152      Ivica Zubac  LAC  80   34.88         9.53\n",
      "\n",
      "🏆 Top 3 MIP Candidates – 2024 Season:\n",
      "            Player Team   G  Impact  Impact_diff\n",
      "859  Jalen Johnson  ATL  56   31.69        17.67\n",
      "825     Cam Thomas  BRK  66   30.92        14.44\n",
      "842     Coby White  CHI  79   30.82        12.25\n",
      "\n",
      "🏆 Top 3 MIP Candidates – 2023 Season:\n",
      "              Player Team   G  Impact  Impact_diff\n",
      "532  Lauri Markkanen  UTA  66   38.93        13.49\n",
      "588  Trey Murphy III  NOP  79   23.89        11.97\n",
      "586   Alperen Şengün  HOU  75   30.10         9.84\n",
      "\n",
      "🏆 Top 3 MIP Candidates – 2022 Season:\n",
      "              Player Team   G  Impact  Impact_diff\n",
      "298     Tyrese Maxey  PHI  75   28.46        13.59\n",
      "296     Desmond Bane  MEM  76   29.00        11.67\n",
      "301  Anfernee Simons  POR  57   25.87        11.47\n"
     ]
    }
   ],
   "source": [
    "import pandas as pd\n",
    "\n",
    "df = pd.read_csv(\"NBA_Cleaned.csv\")\n",
    "\n",
    "#Sort by Player and Season (this is a redundant step as players are already sorted by year, but just in case)\n",
    "df = df.sort_values(by=['Player','Season'])\n",
    "\n",
    "stats = ['PTS', 'TRB', 'AST', 'STL', 'BLK', 'TOV', '3P%', 'FT%', 'FG%']\n",
    "\n",
    "# Impact Score Formula\n",
    "df['Impact'] = df['PTS'] + df['TRB'] + df['AST'] + df['STL'] + df['BLK']- df['TOV']+ 2 * (df['3P%'] + df['FT%'] + df['FG%'])\n",
    "\n",
    "# Create a column for previous season's games played\n",
    "df['G_prev'] = df.groupby('Player')['G'].shift(1)\n",
    "\n",
    "# Impact Difference \n",
    "df['Impact_diff'] = df.groupby('Player')['Impact'].diff()\n",
    "\n",
    "#filter out players who played less than 55 games in current or previous season (also filters out rookies)\n",
    "df = df[(df['G'] >= 55) & (df['G_prev'] >= 55)]\n",
    "\n",
    "#  Define list of seasons\n",
    "seasons = df['Season'].unique()\n",
    "\n",
    "# looping through each players stats from current and previous season and getting difference\n",
    "for season in seasons:\n",
    "    season_df = df[df['Season'] == season]\n",
    "    top3 = season_df.sort_values(by='Impact_diff', ascending=False).head(3)\n",
    "    \n",
    "    print(f\"\\n Top 3 MIP Candidates – {season} Season:\")\n",
    "    print(top3[['Player', 'Team', 'G', 'Impact', 'Impact_diff']].round(2))\n",
    "\n",
    "\n",
    "\n",
    "\n",
    "\n"
   ]
  },
  {
   "cell_type": "code",
   "execution_count": null,
   "metadata": {},
   "outputs": [],
   "source": []
  }
 ],
 "metadata": {
  "kernelspec": {
   "display_name": "Python 3",
   "language": "python",
   "name": "python3"
  },
  "language_info": {
   "codemirror_mode": {
    "name": "ipython",
    "version": 3
   },
   "file_extension": ".py",
   "mimetype": "text/x-python",
   "name": "python",
   "nbconvert_exporter": "python",
   "pygments_lexer": "ipython3",
   "version": "3.11.5"
  },
  "orig_nbformat": 4
 },
 "nbformat": 4,
 "nbformat_minor": 2
}
