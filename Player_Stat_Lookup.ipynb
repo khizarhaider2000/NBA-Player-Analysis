{
 "cells": [
  {
   "cell_type": "markdown",
   "metadata": {},
   "source": [
    "Player Stat Look Up"
   ]
  },
  {
   "cell_type": "code",
   "execution_count": 4,
   "metadata": {},
   "outputs": [
    {
     "name": "stdout",
     "output_type": "stream",
     "text": [
      "Welcome to NBA Stat Lookup\n",
      "\n",
      "Stats for Lebron James across all seasons:\n",
      "\n",
      "     Season Team   G   PTS  TRB  AST  STL  BLK  TOV  3P%  FT%  FG%\n",
      "11    20_21  LAL  45  25.0  7.7  7.8  1.1  0.6  3.7  0.4  0.7  0.5\n",
      "259   21_22  LAL  56  30.3  8.2  6.2  1.3  1.1  3.5  0.4  0.8  0.5\n",
      "524   22_23  LAL  55  28.9  8.3  6.8  0.9  0.6  3.2  0.3  0.8  0.5\n",
      "807   23_24  LAL  71  25.7  7.3  8.3  1.3  0.5  3.5  0.4  0.8  0.5\n",
      "1103  24_25  LAL  70  24.4  7.8  8.2  1.0  0.6  3.7  0.4  0.8  0.5\n"
     ]
    }
   ],
   "source": [
    "import pandas as pd\n",
    "\n",
    "df = pd.read_csv(\"NBA_Cleaned.csv\")\n",
    "\n",
    "print(\"Welcome to NBA Stat Lookup\")\n",
    "\n",
    "player_name = input(\"Enter the player'name\").strip().lower()\n",
    "available_seasons = df['Season'].unique()\n",
    "season = input(f\"Which season would you like to view the stats for? {list(available_seasons)}\\nIf you would like to see average of 5 years, type 'All': \").strip().lower()\n",
    "\n",
    "player_stats = df[df['Player'].str.lower() == player_name.lower()]\n",
    "\n",
    "# Case 1: All seasons\n",
    "if season == \"all\":\n",
    "    print(f\"\\nStats for {player_name.title()} across all seasons:\\n\")\n",
    "    print(player_stats[['Season', 'Team', 'G', 'PTS', 'TRB', 'AST', 'STL', 'BLK', 'TOV', '3P%', 'FT%', 'FG%']].round(1))\n",
    "\n",
    "# Case 2: Single season\n",
    "elif season in df['Season'].str.lower().values:\n",
    "    season_stats = player_stats[player_stats['Season'].str.lower() == season]\n",
    "    \n",
    "    if not season_stats.empty:\n",
    "        print(f\"\\nStats for {player_name.title()} in season {season}:\\n\")\n",
    "        print(season_stats[['Season', 'Team', 'G', 'PTS', 'TRB', 'AST', 'STL', 'BLK', 'TOV', '3P%', 'FT%', 'FG%']].round(1))\n",
    "    else:\n",
    "        print(f\"\\nNo stats found for {player_name.title()} in season {season}.\")\n",
    "else:\n",
    "    print(\"\\nInvalid season entered.\")\n",
    "\n",
    "\n",
    "\n"
   ]
  },
  {
   "cell_type": "code",
   "execution_count": null,
   "metadata": {},
   "outputs": [],
   "source": []
  }
 ],
 "metadata": {
  "kernelspec": {
   "display_name": "Python 3",
   "language": "python",
   "name": "python3"
  },
  "language_info": {
   "codemirror_mode": {
    "name": "ipython",
    "version": 3
   },
   "file_extension": ".py",
   "mimetype": "text/x-python",
   "name": "python",
   "nbconvert_exporter": "python",
   "pygments_lexer": "ipython3",
   "version": "3.11.5"
  },
  "orig_nbformat": 4
 },
 "nbformat": 4,
 "nbformat_minor": 2
}
