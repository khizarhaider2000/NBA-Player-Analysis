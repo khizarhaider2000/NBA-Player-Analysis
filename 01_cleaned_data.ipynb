{
 "cells": [
  {
   "cell_type": "markdown",
   "metadata": {},
   "source": [
    "Combining Sheets from Last 5 years for Analysis"
   ]
  },
  {
   "cell_type": "code",
   "execution_count": 3,
   "metadata": {},
   "outputs": [],
   "source": [
    "import pandas as pd\n",
    "import os\n",
    "\n",
    "files = ['20_21.csv','21_22.csv','22_23.csv','23_24.csv','24_25.csv']\n",
    "\n",
    "combined = pd.DataFrame() #creates empty dataframe (like a new spreadsheet)\n",
    "\n",
    "for file in files:\n",
    "    data = pd.read_csv(file) #contains the i'th files content, after the loop ends, data will only contain the last file's contents\n",
    "    combined = pd.concat([combined,data],ignore_index= True) #adds i'th file to combined until loop over\n",
    "\n",
    "combined.to_csv('NBA_Combined.csv',index= False)"
   ]
  },
  {
   "cell_type": "markdown",
   "metadata": {},
   "source": [
    "Cleaning Data this includes:\n",
    "\n",
    "Adding the Season Column for Data, Removing Duplicates, Replacing missing values with 0, Making Sure Players that moved teams during the season are only counted once\n"
   ]
  },
  {
   "cell_type": "code",
   "execution_count": 2,
   "metadata": {},
   "outputs": [],
   "source": [
    "import pandas as pd\n",
    "df = pd.read_csv(\"NBA_Combined.csv\") #load combined data file\n",
    "\n",
    "# 1) add season column (assuming 500 rows per season)\n",
    "df['Season'] = ([2021] * 500 + [2022] * 500 + [2023] * 500 + [2024] * 500 + [2025] * 500 ) \n",
    "\n",
    "# 2) Replace missing values with 0\n",
    "df = df.fillna(0) \n",
    "\n",
    "\n",
    "# 3) Remove 'Rk' column\n",
    "\n",
    "if 'Rk' in df.columns:\n",
    "    df = df.drop('Rk', axis = 1)\n",
    "\n",
    "# 4) Keep only total rows (like '2TM', '3TM', etc.) for traded players\n",
    "\n",
    "# Clean any spaces in the 'Team' column\n",
    "df['Team'] = df['Team'].str.strip()\n",
    "\n",
    "multi_tm_code = df['Team'].str.contains('TM') # find rows in the 'Team' column containing TM\n",
    "multi_tm_player = df[multi_tm_code]['Player'].unique() # gets list of players from the rows where Team columns contains 'TM'\n",
    "\n",
    "# Removes all rows of players who played for multiple teams except the '2TM/3TM'row\n",
    "df = df[~((df['Player'].isin(multi_tm_player))&(~df[\"Team\"].str.contains('TM')))]\n",
    "\n",
    "df.to_csv('NBA_Cleaned.csv',index= False)\n",
    "\n"
   ]
  }
 ],
 "metadata": {
  "kernelspec": {
   "display_name": "Python 3",
   "language": "python",
   "name": "python3"
  },
  "language_info": {
   "codemirror_mode": {
    "name": "ipython",
    "version": 3
   },
   "file_extension": ".py",
   "mimetype": "text/x-python",
   "name": "python",
   "nbconvert_exporter": "python",
   "pygments_lexer": "ipython3",
   "version": "3.11.5"
  },
  "orig_nbformat": 4
 },
 "nbformat": 4,
 "nbformat_minor": 2
}
